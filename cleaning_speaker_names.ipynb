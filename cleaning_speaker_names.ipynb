{
 "metadata": {
  "language_info": {
   "codemirror_mode": {
    "name": "ipython",
    "version": 3
   },
   "file_extension": ".py",
   "mimetype": "text/x-python",
   "name": "python",
   "nbconvert_exporter": "python",
   "pygments_lexer": "ipython3",
   "version": "3.6.10-final"
  },
  "orig_nbformat": 2,
  "kernelspec": {
   "name": "python_defaultSpec_1598118303528",
   "display_name": "Python 3.6.10 64-bit ('PythonData': conda)"
  }
 },
 "nbformat": 4,
 "nbformat_minor": 2,
 "cells": [
  {
   "cell_type": "code",
   "execution_count": 1,
   "metadata": {},
   "outputs": [],
   "source": [
    "# Import depdendencies\n",
    "import pandas as pd\n",
    "from sqlalchemy import create_engine"
   ]
  },
  {
   "cell_type": "code",
   "execution_count": 2,
   "metadata": {},
   "outputs": [
    {
     "output_type": "execute_result",
     "data": {
      "text/plain": "   season  episode  title  speaker  \\\n0       1        1  Pilot  Michael   \n1       1        1  Pilot      Jim   \n2       1        1  Pilot  Michael   \n3       1        1  Pilot      Jim   \n4       1        1  Pilot  Michael   \n\n                                                line  \n0  All right Jim. Your quarterlies look very good...  \n1         Oh, I told you. I couldn't close it. So...  \n2  So you've come to the master for guidance? Is ...  \n3         Actually, you called me in here, but yeah.  \n4    All right. Well, let me show you how it's done.  ",
      "text/html": "<div>\n<style scoped>\n    .dataframe tbody tr th:only-of-type {\n        vertical-align: middle;\n    }\n\n    .dataframe tbody tr th {\n        vertical-align: top;\n    }\n\n    .dataframe thead th {\n        text-align: right;\n    }\n</style>\n<table border=\"1\" class=\"dataframe\">\n  <thead>\n    <tr style=\"text-align: right;\">\n      <th></th>\n      <th>season</th>\n      <th>episode</th>\n      <th>title</th>\n      <th>speaker</th>\n      <th>line</th>\n    </tr>\n  </thead>\n  <tbody>\n    <tr>\n      <th>0</th>\n      <td>1</td>\n      <td>1</td>\n      <td>Pilot</td>\n      <td>Michael</td>\n      <td>All right Jim. Your quarterlies look very good...</td>\n    </tr>\n    <tr>\n      <th>1</th>\n      <td>1</td>\n      <td>1</td>\n      <td>Pilot</td>\n      <td>Jim</td>\n      <td>Oh, I told you. I couldn't close it. So...</td>\n    </tr>\n    <tr>\n      <th>2</th>\n      <td>1</td>\n      <td>1</td>\n      <td>Pilot</td>\n      <td>Michael</td>\n      <td>So you've come to the master for guidance? Is ...</td>\n    </tr>\n    <tr>\n      <th>3</th>\n      <td>1</td>\n      <td>1</td>\n      <td>Pilot</td>\n      <td>Jim</td>\n      <td>Actually, you called me in here, but yeah.</td>\n    </tr>\n    <tr>\n      <th>4</th>\n      <td>1</td>\n      <td>1</td>\n      <td>Pilot</td>\n      <td>Michael</td>\n      <td>All right. Well, let me show you how it's done.</td>\n    </tr>\n  </tbody>\n</table>\n</div>"
     },
     "metadata": {},
     "execution_count": 2
    }
   ],
   "source": [
    "# Locate the file, read it into a pandas dataframe, and display the first few lines\n",
    "office_lines_file = \"Resource/The-Office-Lines.csv\"\n",
    "office_lines_df = pd.read_csv(office_lines_file)\n",
    "office_lines_df.head()"
   ]
  },
  {
   "cell_type": "code",
   "execution_count": 3,
   "metadata": {},
   "outputs": [
    {
     "output_type": "execute_result",
     "data": {
      "text/plain": "       season  episode   title   speaker\n0           1        1   Pilot   Michael\n1           1        1   Pilot       Jim\n2           1        1   Pilot   Michael\n3           1        1   Pilot       Jim\n4           1        1   Pilot   Michael\n...       ...      ...     ...       ...\n54622       9       24  Finale     Creed\n54623       9       24  Finale  Meredith\n54624       9       24  Finale   Phyllis\n54625       9       24  Finale       Jim\n54626       9       24  Finale       Pam\n\n[54627 rows x 4 columns]",
      "text/html": "<div>\n<style scoped>\n    .dataframe tbody tr th:only-of-type {\n        vertical-align: middle;\n    }\n\n    .dataframe tbody tr th {\n        vertical-align: top;\n    }\n\n    .dataframe thead th {\n        text-align: right;\n    }\n</style>\n<table border=\"1\" class=\"dataframe\">\n  <thead>\n    <tr style=\"text-align: right;\">\n      <th></th>\n      <th>season</th>\n      <th>episode</th>\n      <th>title</th>\n      <th>speaker</th>\n    </tr>\n  </thead>\n  <tbody>\n    <tr>\n      <th>0</th>\n      <td>1</td>\n      <td>1</td>\n      <td>Pilot</td>\n      <td>Michael</td>\n    </tr>\n    <tr>\n      <th>1</th>\n      <td>1</td>\n      <td>1</td>\n      <td>Pilot</td>\n      <td>Jim</td>\n    </tr>\n    <tr>\n      <th>2</th>\n      <td>1</td>\n      <td>1</td>\n      <td>Pilot</td>\n      <td>Michael</td>\n    </tr>\n    <tr>\n      <th>3</th>\n      <td>1</td>\n      <td>1</td>\n      <td>Pilot</td>\n      <td>Jim</td>\n    </tr>\n    <tr>\n      <th>4</th>\n      <td>1</td>\n      <td>1</td>\n      <td>Pilot</td>\n      <td>Michael</td>\n    </tr>\n    <tr>\n      <th>...</th>\n      <td>...</td>\n      <td>...</td>\n      <td>...</td>\n      <td>...</td>\n    </tr>\n    <tr>\n      <th>54622</th>\n      <td>9</td>\n      <td>24</td>\n      <td>Finale</td>\n      <td>Creed</td>\n    </tr>\n    <tr>\n      <th>54623</th>\n      <td>9</td>\n      <td>24</td>\n      <td>Finale</td>\n      <td>Meredith</td>\n    </tr>\n    <tr>\n      <th>54624</th>\n      <td>9</td>\n      <td>24</td>\n      <td>Finale</td>\n      <td>Phyllis</td>\n    </tr>\n    <tr>\n      <th>54625</th>\n      <td>9</td>\n      <td>24</td>\n      <td>Finale</td>\n      <td>Jim</td>\n    </tr>\n    <tr>\n      <th>54626</th>\n      <td>9</td>\n      <td>24</td>\n      <td>Finale</td>\n      <td>Pam</td>\n    </tr>\n  </tbody>\n</table>\n<p>54627 rows × 4 columns</p>\n</div>"
     },
     "metadata": {},
     "execution_count": 3
    }
   ],
   "source": [
    "# Create a list of columns we want to use, create a copy of the original dataframe with the chosen columns\n",
    "office_lines_columns = [\"season\", \"episode\", \"title\", \"speaker\"]\n",
    "office_lines_transformed = office_lines_df[office_lines_columns].copy()\n",
    "\n",
    "# Display the transformed dataframe\n",
    "office_lines_transformed"
   ]
  },
  {
   "cell_type": "code",
   "execution_count": 4,
   "metadata": {},
   "outputs": [],
   "source": [
    "# Replace all the variations of names\n",
    "office_lines_transformed[\"speaker\"] = office_lines_transformed[\"speaker\"].replace('\"Angela\"', 'Angela')\n",
    "office_lines_transformed[\"speaker\"] = office_lines_transformed[\"speaker\"].replace('Angela:', 'Angela', regex=True)\n",
    "office_lines_transformed[\"speaker\"] = office_lines_transformed[\"speaker\"].replace('Anglea', 'Angela')\n",
    "office_lines_transformed[\"speaker\"] = office_lines_transformed[\"speaker\"].replace('AJ', 'A.J.')\n",
    "office_lines_transformed[\"speaker\"] = office_lines_transformed[\"speaker\"].replace('abe', 'Abe')\n",
    "office_lines_transformed[\"speaker\"] = office_lines_transformed[\"speaker\"].replace('Andy:', 'Andy', regex=True)\n",
    "office_lines_transformed[\"speaker\"] = office_lines_transformed[\"speaker\"].replace('Andy & Erin', 'Andy and Erin')\n",
    "office_lines_transformed[\"speaker\"] = office_lines_transformed[\"speaker\"].replace('Andy & Michael', 'Andy and Michael')\n",
    "office_lines_transformed[\"speaker\"] = office_lines_transformed[\"speaker\"].replace('Bob', 'Bob Vance')\n",
    "office_lines_transformed[\"speaker\"] = office_lines_transformed[\"speaker\"].replace('Bob Vance, Vance Refrigeration', 'Bob Vance')\n",
    "office_lines_transformed[\"speaker\"] = office_lines_transformed[\"speaker\"].replace('Carla', 'Carla Fern')\n",
    "office_lines_transformed[\"speaker\"] = office_lines_transformed[\"speaker\"].replace('Carol', 'Carol Stills')\n",
    "office_lines_transformed[\"speaker\"] = office_lines_transformed[\"speaker\"].replace('Carrol', 'Carol Stills')\n",
    "office_lines_transformed[\"speaker\"] = office_lines_transformed[\"speaker\"].replace('Carroll', 'Carol Stills')\n",
    "office_lines_transformed[\"speaker\"] = office_lines_transformed[\"speaker\"].replace('Casey', 'Casey Dean')\n",
    "office_lines_transformed[\"speaker\"] = office_lines_transformed[\"speaker\"].replace('Chares', 'Charles')\n",
    "office_lines_transformed[\"speaker\"] = office_lines_transformed[\"speaker\"].replace('Creed:', 'Creed', regex=True)\n",
    "office_lines_transformed[\"speaker\"] = office_lines_transformed[\"speaker\"].replace('D', 'Dwight')\n",
    "office_lines_transformed[\"speaker\"] = office_lines_transformed[\"speaker\"].replace('Dacvid Walalce', 'David Wallace')\n",
    "office_lines_transformed[\"speaker\"] = office_lines_transformed[\"speaker\"].replace('Dacvid Wallace', 'David Wallace')\n",
    "office_lines_transformed[\"speaker\"] = office_lines_transformed[\"speaker\"].replace('David Wallcve', 'David Wallace')\n",
    "office_lines_transformed[\"speaker\"] = office_lines_transformed[\"speaker\"].replace('Dan', 'Dan Gore')\n",
    "office_lines_transformed[\"speaker\"] = office_lines_transformed[\"speaker\"].replace('Darrly', 'Darryl')\n",
    "office_lines_transformed[\"speaker\"] = office_lines_transformed[\"speaker\"].replace('Darry', 'Darryl')\n",
    "office_lines_transformed[\"speaker\"] = office_lines_transformed[\"speaker\"].replace('Darryl:', 'Darryl', regex=True)\n",
    "office_lines_transformed[\"speaker\"] = office_lines_transformed[\"speaker\"].replace('Daryl', 'Darryl')\n",
    "office_lines_transformed[\"speaker\"] = office_lines_transformed[\"speaker\"].replace('Darrly', 'Darryl')\n",
    "office_lines_transformed[\"speaker\"] = office_lines_transformed[\"speaker\"].replace('DeAgnelo', 'Deangelo')\n",
    "office_lines_transformed[\"speaker\"] = office_lines_transformed[\"speaker\"].replace('Denagelo', 'Deangelo')\n",
    "office_lines_transformed[\"speaker\"] = office_lines_transformed[\"speaker\"].replace('Deliveryman', 'Delivery man')\n",
    "office_lines_transformed[\"speaker\"] = office_lines_transformed[\"speaker\"].replace('Diane', 'Diane Kelly')\n",
    "office_lines_transformed[\"speaker\"] = office_lines_transformed[\"speaker\"].replace('Dight', 'Dwight')\n",
    "office_lines_transformed[\"speaker\"] = office_lines_transformed[\"speaker\"].replace('Donna', 'Donna Muraski')\n",
    "office_lines_transformed[\"speaker\"] = office_lines_transformed[\"speaker\"].replace('Dwight', 'Dwight')\n",
    "office_lines_transformed[\"speaker\"] = office_lines_transformed[\"speaker\"].replace('Dwight & Andy', 'Dwight and Andy')\n",
    "office_lines_transformed[\"speaker\"] = office_lines_transformed[\"speaker\"].replace('Dwight:', 'Dwight', regex=True)\n",
    "office_lines_transformed[\"speaker\"] = office_lines_transformed[\"speaker\"].replace('Dwight.', 'Dwight')\n",
    "office_lines_transformed[\"speaker\"] = office_lines_transformed[\"speaker\"].replace('DwightKSchrute', 'Dwight')\n",
    "office_lines_transformed[\"speaker\"] = office_lines_transformed[\"speaker\"].replace('Erin:', 'Erin', regex=True)\n",
    "office_lines_transformed[\"speaker\"] = office_lines_transformed[\"speaker\"].replace('Everyone:', 'Everyone', regex=True)\n",
    "office_lines_transformed[\"speaker\"] = office_lines_transformed[\"speaker\"].replace('Everybody', 'Everyone')\n",
    "office_lines_transformed[\"speaker\"] = office_lines_transformed[\"speaker\"].replace('Fred', 'Fred Henry')\n",
    "office_lines_transformed[\"speaker\"] = office_lines_transformed[\"speaker\"].replace('Glen', 'Glenn')\n",
    "office_lines_transformed[\"speaker\"] = office_lines_transformed[\"speaker\"].replace('Hide:', 'Hide', regex=True)\n",
    "office_lines_transformed[\"speaker\"] = office_lines_transformed[\"speaker\"].replace('Holy', 'Holly')\n",
    "office_lines_transformed[\"speaker\"] = office_lines_transformed[\"speaker\"].replace('Walt Jr.', 'Walter Jr')\n",
    "office_lines_transformed[\"speaker\"] = office_lines_transformed[\"speaker\"].replace('Stanley:', 'Stanley', regex=True)\n",
    "office_lines_transformed[\"speaker\"] = office_lines_transformed[\"speaker\"].replace('Stanely', 'Stanley')\n",
    "office_lines_transformed[\"speaker\"] = office_lines_transformed[\"speaker\"].replace('Senator', 'Senator Lipton')\n",
    "office_lines_transformed[\"speaker\"] = office_lines_transformed[\"speaker\"].replace('Senator Liptop', 'Senator Lipton')\n",
    "office_lines_transformed[\"speaker\"] = office_lines_transformed[\"speaker\"].replace('Ryan:', 'Ryan', regex=True)\n",
    "office_lines_transformed[\"speaker\"] = office_lines_transformed[\"speaker\"].replace('Ryan Howard', 'Ryan')\n",
    "office_lines_transformed[\"speaker\"] = office_lines_transformed[\"speaker\"].replace('Receptionitis*', 'Receptionist', regex=True)\n",
    "office_lines_transformed[\"speaker\"] = office_lines_transformed[\"speaker\"].replace('Phylis', 'Phyllis')\n",
    "office_lines_transformed[\"speaker\"] = office_lines_transformed[\"speaker\"].replace('Phyliss', 'Phyllis')\n",
    "office_lines_transformed[\"speaker\"] = office_lines_transformed[\"speaker\"].replace('Phyllis:', 'Phyllis', regex=True)\n",
    "office_lines_transformed[\"speaker\"] = office_lines_transformed[\"speaker\"].replace('Phil', 'Phil Maguire')\n",
    "office_lines_transformed[\"speaker\"] = office_lines_transformed[\"speaker\"].replace('Philip', 'Phil Maguire')\n",
    "office_lines_transformed[\"speaker\"] = office_lines_transformed[\"speaker\"].replace('Phillip', 'Phil Maguire')\n",
    "office_lines_transformed[\"speaker\"] = office_lines_transformed[\"speaker\"].replace('Pam/Jim', 'Pam and Jim')\n",
    "office_lines_transformed[\"speaker\"] = office_lines_transformed[\"speaker\"].replace('Pam:', 'Pam', regex=True)\n",
    "office_lines_transformed[\"speaker\"] = office_lines_transformed[\"speaker\"].replace('Pam [on phone]', 'Pam')\n",
    "office_lines_transformed[\"speaker\"] = office_lines_transformed[\"speaker\"].replace('Pam as \"fourth-biggest-client\"', 'Pam')\n",
    "office_lines_transformed[\"speaker\"] = office_lines_transformed[\"speaker\"].replace('Pam as \"ninth-biggest-client\"', 'Pam')\n",
    "office_lines_transformed[\"speaker\"] = office_lines_transformed[\"speaker\"].replace('Pam', 'Pam')\n",
    "office_lines_transformed[\"speaker\"] = office_lines_transformed[\"speaker\"].replace(\"Oscar's Computer\", 'Oscar')\n",
    "office_lines_transformed[\"speaker\"] = office_lines_transformed[\"speaker\"].replace(\"Oscar's voice from the computer\", 'Oscar')\n",
    "office_lines_transformed[\"speaker\"] = office_lines_transformed[\"speaker\"].replace('Oscar:', 'Oscar', regex=True)\n",
    "office_lines_transformed[\"speaker\"] = office_lines_transformed[\"speaker\"].replace('Mose [on phone]', 'Mose')\n",
    "office_lines_transformed[\"speaker\"] = office_lines_transformed[\"speaker\"].replace('Micael', 'Michael')\n",
    "office_lines_transformed[\"speaker\"] = office_lines_transformed[\"speaker\"].replace('Micahel', 'Michael')\n",
    "office_lines_transformed[\"speaker\"] = office_lines_transformed[\"speaker\"].replace('Michae', 'Michael')\n",
    "office_lines_transformed[\"speaker\"] = office_lines_transformed[\"speaker\"].replace('Michael', 'Michael')\n",
    "office_lines_transformed[\"speaker\"] = office_lines_transformed[\"speaker\"].replace('Michael [on phone]', 'Michael')\n",
    "office_lines_transformed[\"speaker\"] = office_lines_transformed[\"speaker\"].replace(\"Michael's Ad\", 'Michael')\n",
    "office_lines_transformed[\"speaker\"] = office_lines_transformed[\"speaker\"].replace('Michal', 'Michael')\n",
    "office_lines_transformed[\"speaker\"] = office_lines_transformed[\"speaker\"].replace('Micheal', 'Michael')\n",
    "office_lines_transformed[\"speaker\"] = office_lines_transformed[\"speaker\"].replace('Michael', 'Michael')\n",
    "office_lines_transformed[\"speaker\"] = office_lines_transformed[\"speaker\"].replace('Michel', 'Michael')\n",
    "office_lines_transformed[\"speaker\"] = office_lines_transformed[\"speaker\"].replace('Mihael', 'Michael')\n",
    "office_lines_transformed[\"speaker\"] = office_lines_transformed[\"speaker\"].replace('Miichael', 'Michael')\n",
    "office_lines_transformed[\"speaker\"] = office_lines_transformed[\"speaker\"].replace('Merv Bronte', 'Merv')\n",
    "office_lines_transformed[\"speaker\"] = office_lines_transformed[\"speaker\"].replace('Meridith', 'Meredith')\n",
    "office_lines_transformed[\"speaker\"] = office_lines_transformed[\"speaker\"].replace('Meredith:', 'Meredith', regex=True)\n",
    "office_lines_transformed[\"speaker\"] = office_lines_transformed[\"speaker\"].replace('MeeMaw', 'Mee-Maw')\n",
    "office_lines_transformed[\"speaker\"] = office_lines_transformed[\"speaker\"].replace('Matt:', 'Matt')\n",
    "office_lines_transformed[\"speaker\"] = office_lines_transformed[\"speaker\"].replace('M ichael', 'Michael')\n",
    "office_lines_transformed[\"speaker\"] = office_lines_transformed[\"speaker\"].replace('Krasinski', 'Jim')\n",
    "office_lines_transformed[\"speaker\"] = office_lines_transformed[\"speaker\"].replace('Kevin:', 'Kevin', regex=True)\n",
    "office_lines_transformed[\"speaker\"] = office_lines_transformed[\"speaker\"].replace('Kelly:', 'Kelly', regex=True)\n",
    "office_lines_transformed[\"speaker\"] = office_lines_transformed[\"speaker\"].replace('Julius Irving:', 'Julius', regex=True)\n",
    "office_lines_transformed[\"speaker\"] = office_lines_transformed[\"speaker\"].replace('Julie:', 'Julia', regex=True)\n",
    "office_lines_transformed[\"speaker\"] = office_lines_transformed[\"speaker\"].replace('Jo Bennett:', 'Jo', regex=True)\n",
    "office_lines_transformed[\"speaker\"] = office_lines_transformed[\"speaker\"].replace('JIM9334*', 'JIM9334', regex=True)\n",
    "office_lines_transformed[\"speaker\"] = office_lines_transformed[\"speaker\"].replace('Jim', 'Jim')\n",
    "office_lines_transformed[\"speaker\"] = office_lines_transformed[\"speaker\"].replace('Jim:', 'Jim', regex=True)\n",
    "office_lines_transformed[\"speaker\"] = office_lines_transformed[\"speaker\"].replace('Jim & Dwight', 'Jim and Dwight')\n",
    "office_lines_transformed[\"speaker\"] = office_lines_transformed[\"speaker\"].replace('Michael/Dwight', 'Michael and Dwight')\n",
    "office_lines_transformed[\"speaker\"] = office_lines_transformed[\"speaker\"].replace('Jim & Pam', 'Jim and Pam')\n",
    "office_lines_transformed[\"speaker\"] = office_lines_transformed[\"speaker\"].replace('Jessica Alba', 'Jessica')\n",
    "office_lines_transformed[\"speaker\"] = office_lines_transformed[\"speaker\"].replace('Jan [on phone])', 'Jan')\n",
    "office_lines_transformed[\"speaker\"] = office_lines_transformed[\"speaker\"].replace('Isabel:', 'Isabel', regex=True)\n",
    "office_lines_transformed[\"speaker\"] = office_lines_transformed[\"speaker\"].replace(\"Hunter's CD\", 'Hunter')\n",
    "office_lines_transformed[\"speaker\"] = office_lines_transformed[\"speaker\"].replace('Jim:', 'Jim', regex=True)\n",
    "office_lines_transformed[\"speaker\"] = office_lines_transformed[\"speaker\"].replace('Michael & Holly', 'Michael and Holly')\n",
    "office_lines_transformed[\"speaker\"] = office_lines_transformed[\"speaker\"].replace('Pam & Jim', 'Jim and Pam')\n",
    "office_lines_transformed[\"speaker\"] = office_lines_transformed[\"speaker\"].replace('Pam and Jim', 'Jim and Pam')\n",
    "office_lines_transformed[\"speaker\"] = office_lines_transformed[\"speaker\"].replace('Jim/Pam', 'Jim and Pam')\n",
    "office_lines_transformed[\"speaker\"] = office_lines_transformed[\"speaker\"].replace('\"Jim\"', 'Jim')\n",
    "office_lines_transformed[\"speaker\"] = office_lines_transformed[\"speaker\"].replace('\"Jo\"', 'Jo')\n",
    "office_lines_transformed[\"speaker\"] = office_lines_transformed[\"speaker\"].replace('\"Phyllis\"', 'Phyllis')\n",
    "\n",
    "# Export a clean file to use\n",
    "office_lines_transformed.to_csv(\"Resource/office_lines_cleaned.csv\")\n",
    "\n",
    "# Create a copy of the newly cleaned data to use\n",
    "office_lines_cleaned = office_lines_transformed.copy()"
   ]
  },
  {
   "cell_type": "code",
   "execution_count": null,
   "metadata": {},
   "outputs": [],
   "source": []
  }
 ]
}