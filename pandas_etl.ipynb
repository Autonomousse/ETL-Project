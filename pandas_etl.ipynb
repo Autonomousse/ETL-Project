{
 "metadata": {
  "language_info": {
   "codemirror_mode": {
    "name": "ipython",
    "version": 3
   },
   "file_extension": ".py",
   "mimetype": "text/x-python",
   "name": "python",
   "nbconvert_exporter": "python",
   "pygments_lexer": "ipython3",
   "version": "3.6.10-final"
  },
  "orig_nbformat": 2,
  "kernelspec": {
   "name": "python_defaultSpec_1598130431250",
   "display_name": "Python 3.6.10 64-bit ('PythonData': conda)"
  }
 },
 "nbformat": 4,
 "nbformat_minor": 2,
 "cells": [
  {
   "cell_type": "code",
   "execution_count": 1,
   "metadata": {},
   "outputs": [],
   "source": [
    "# Load dependencies\n",
    "import pandas as pd\n",
    "from sqlalchemy import create_engine"
   ]
  },
  {
   "cell_type": "markdown",
   "metadata": {},
   "source": [
    "## Extract the cleaned data into DataFrames"
   ]
  },
  {
   "cell_type": "code",
   "execution_count": 2,
   "metadata": {},
   "outputs": [
    {
     "output_type": "execute_result",
     "data": {
      "text/plain": "   Unnamed: 0  Unnamed: 0.1  Season  episode  Title  speaker  \\\n0           0             0       1        1  Pilot  Michael   \n1           1             1       1        1  Pilot      Jim   \n2           2             2       1        1  Pilot  Michael   \n3           3             3       1        1  Pilot      Jim   \n4           4             4       1        1  Pilot  Michael   \n\n                                                line  \n0  All right Jim. Your quarterlies look very good...  \n1         Oh, I told you. I couldn't close it. So...  \n2  So you've come to the master for guidance? Is ...  \n3         Actually, you called me in here, but yeah.  \n4    All right. Well, let me show you how it's done.  ",
      "text/html": "<div>\n<style scoped>\n    .dataframe tbody tr th:only-of-type {\n        vertical-align: middle;\n    }\n\n    .dataframe tbody tr th {\n        vertical-align: top;\n    }\n\n    .dataframe thead th {\n        text-align: right;\n    }\n</style>\n<table border=\"1\" class=\"dataframe\">\n  <thead>\n    <tr style=\"text-align: right;\">\n      <th></th>\n      <th>Unnamed: 0</th>\n      <th>Unnamed: 0.1</th>\n      <th>Season</th>\n      <th>episode</th>\n      <th>Title</th>\n      <th>speaker</th>\n      <th>line</th>\n    </tr>\n  </thead>\n  <tbody>\n    <tr>\n      <th>0</th>\n      <td>0</td>\n      <td>0</td>\n      <td>1</td>\n      <td>1</td>\n      <td>Pilot</td>\n      <td>Michael</td>\n      <td>All right Jim. Your quarterlies look very good...</td>\n    </tr>\n    <tr>\n      <th>1</th>\n      <td>1</td>\n      <td>1</td>\n      <td>1</td>\n      <td>1</td>\n      <td>Pilot</td>\n      <td>Jim</td>\n      <td>Oh, I told you. I couldn't close it. So...</td>\n    </tr>\n    <tr>\n      <th>2</th>\n      <td>2</td>\n      <td>2</td>\n      <td>1</td>\n      <td>1</td>\n      <td>Pilot</td>\n      <td>Michael</td>\n      <td>So you've come to the master for guidance? Is ...</td>\n    </tr>\n    <tr>\n      <th>3</th>\n      <td>3</td>\n      <td>3</td>\n      <td>1</td>\n      <td>1</td>\n      <td>Pilot</td>\n      <td>Jim</td>\n      <td>Actually, you called me in here, but yeah.</td>\n    </tr>\n    <tr>\n      <th>4</th>\n      <td>4</td>\n      <td>4</td>\n      <td>1</td>\n      <td>1</td>\n      <td>Pilot</td>\n      <td>Michael</td>\n      <td>All right. Well, let me show you how it's done.</td>\n    </tr>\n  </tbody>\n</table>\n</div>"
     },
     "metadata": {},
     "execution_count": 2
    }
   ],
   "source": [
    "# Read in the cleaned speaker file, convert to a pandas dataframe, and display\n",
    "speaker_file = \"Resource/office_lines_cleaned.csv\"\n",
    "speaker_df = pd.read_csv(speaker_file)\n",
    "speaker_df.head()"
   ]
  },
  {
   "cell_type": "code",
   "execution_count": 3,
   "metadata": {},
   "outputs": [
    {
     "output_type": "execute_result",
     "data": {
      "text/plain": "   Unnamed: 0  Season          Title     AirDate  Rating  Num_Votes  \\\n0           0       1          Pilot  2005-03-24     7.5       4349   \n1           1       1  Diversity Day  2005-03-29     8.3       4213   \n2           2       1    Health Care  2005-04-05     7.8       3536   \n3           3       1   The Alliance  2005-04-12     8.1       3428   \n4           4       1     Basketball  2005-04-19     8.4       3745   \n\n                                         Description       DirectedBy  \\\n0  The premiere episode introduces the boss and s...       Ken Kwapis   \n1  Michael's off color remark puts a sensitivity ...       Ken Kwapis   \n2  Michael leaves Dwight in charge of picking the...  Ken Whittingham   \n3  Just for a laugh, Jim agrees to an alliance wi...     Bryan Gordon   \n4  Michael and his staff challenge the warehouse ...     Greg Daniels   \n\n                                          WrittenBy  \n0  Ricky Gervais |Stephen Merchant and Greg Daniels  \n1                                       B. J. Novak  \n2                                  Paul Lieberstein  \n3                                     Michael Schur  \n4                                      Greg Daniels  ",
      "text/html": "<div>\n<style scoped>\n    .dataframe tbody tr th:only-of-type {\n        vertical-align: middle;\n    }\n\n    .dataframe tbody tr th {\n        vertical-align: top;\n    }\n\n    .dataframe thead th {\n        text-align: right;\n    }\n</style>\n<table border=\"1\" class=\"dataframe\">\n  <thead>\n    <tr style=\"text-align: right;\">\n      <th></th>\n      <th>Unnamed: 0</th>\n      <th>Season</th>\n      <th>Title</th>\n      <th>AirDate</th>\n      <th>Rating</th>\n      <th>Num_Votes</th>\n      <th>Description</th>\n      <th>DirectedBy</th>\n      <th>WrittenBy</th>\n    </tr>\n  </thead>\n  <tbody>\n    <tr>\n      <th>0</th>\n      <td>0</td>\n      <td>1</td>\n      <td>Pilot</td>\n      <td>2005-03-24</td>\n      <td>7.5</td>\n      <td>4349</td>\n      <td>The premiere episode introduces the boss and s...</td>\n      <td>Ken Kwapis</td>\n      <td>Ricky Gervais |Stephen Merchant and Greg Daniels</td>\n    </tr>\n    <tr>\n      <th>1</th>\n      <td>1</td>\n      <td>1</td>\n      <td>Diversity Day</td>\n      <td>2005-03-29</td>\n      <td>8.3</td>\n      <td>4213</td>\n      <td>Michael's off color remark puts a sensitivity ...</td>\n      <td>Ken Kwapis</td>\n      <td>B. J. Novak</td>\n    </tr>\n    <tr>\n      <th>2</th>\n      <td>2</td>\n      <td>1</td>\n      <td>Health Care</td>\n      <td>2005-04-05</td>\n      <td>7.8</td>\n      <td>3536</td>\n      <td>Michael leaves Dwight in charge of picking the...</td>\n      <td>Ken Whittingham</td>\n      <td>Paul Lieberstein</td>\n    </tr>\n    <tr>\n      <th>3</th>\n      <td>3</td>\n      <td>1</td>\n      <td>The Alliance</td>\n      <td>2005-04-12</td>\n      <td>8.1</td>\n      <td>3428</td>\n      <td>Just for a laugh, Jim agrees to an alliance wi...</td>\n      <td>Bryan Gordon</td>\n      <td>Michael Schur</td>\n    </tr>\n    <tr>\n      <th>4</th>\n      <td>4</td>\n      <td>1</td>\n      <td>Basketball</td>\n      <td>2005-04-19</td>\n      <td>8.4</td>\n      <td>3745</td>\n      <td>Michael and his staff challenge the warehouse ...</td>\n      <td>Greg Daniels</td>\n      <td>Greg Daniels</td>\n    </tr>\n  </tbody>\n</table>\n</div>"
     },
     "metadata": {},
     "execution_count": 3
    }
   ],
   "source": [
    "# Read in the cleaned imdb ratings file, convert to a pandas dataframe, and display\n",
    "imdb_file = \"Resource/cleaned_imdb_dataset.csv\"\n",
    "imdb_df = pd.read_csv(imdb_file)\n",
    "imdb_df.head()"
   ]
  },
  {
   "cell_type": "markdown",
   "metadata": {},
   "source": [
    "## Transform the DataFrames"
   ]
  },
  {
   "cell_type": "code",
   "execution_count": 4,
   "metadata": {},
   "outputs": [
    {
     "output_type": "execute_result",
     "data": {
      "text/plain": "       season  episode   title   speaker\nid                                      \n1           1        1   Pilot   Michael\n2           1        1   Pilot       Jim\n3           1        1   Pilot   Michael\n4           1        1   Pilot       Jim\n5           1        1   Pilot   Michael\n...       ...      ...     ...       ...\n54623       9       24  Finale     Creed\n54624       9       24  Finale  Meredith\n54625       9       24  Finale   Phyllis\n54626       9       24  Finale       Jim\n54627       9       24  Finale       Pam\n\n[54627 rows x 4 columns]",
      "text/html": "<div>\n<style scoped>\n    .dataframe tbody tr th:only-of-type {\n        vertical-align: middle;\n    }\n\n    .dataframe tbody tr th {\n        vertical-align: top;\n    }\n\n    .dataframe thead th {\n        text-align: right;\n    }\n</style>\n<table border=\"1\" class=\"dataframe\">\n  <thead>\n    <tr style=\"text-align: right;\">\n      <th></th>\n      <th>season</th>\n      <th>episode</th>\n      <th>title</th>\n      <th>speaker</th>\n    </tr>\n    <tr>\n      <th>id</th>\n      <th></th>\n      <th></th>\n      <th></th>\n      <th></th>\n    </tr>\n  </thead>\n  <tbody>\n    <tr>\n      <th>1</th>\n      <td>1</td>\n      <td>1</td>\n      <td>Pilot</td>\n      <td>Michael</td>\n    </tr>\n    <tr>\n      <th>2</th>\n      <td>1</td>\n      <td>1</td>\n      <td>Pilot</td>\n      <td>Jim</td>\n    </tr>\n    <tr>\n      <th>3</th>\n      <td>1</td>\n      <td>1</td>\n      <td>Pilot</td>\n      <td>Michael</td>\n    </tr>\n    <tr>\n      <th>4</th>\n      <td>1</td>\n      <td>1</td>\n      <td>Pilot</td>\n      <td>Jim</td>\n    </tr>\n    <tr>\n      <th>5</th>\n      <td>1</td>\n      <td>1</td>\n      <td>Pilot</td>\n      <td>Michael</td>\n    </tr>\n    <tr>\n      <th>...</th>\n      <td>...</td>\n      <td>...</td>\n      <td>...</td>\n      <td>...</td>\n    </tr>\n    <tr>\n      <th>54623</th>\n      <td>9</td>\n      <td>24</td>\n      <td>Finale</td>\n      <td>Creed</td>\n    </tr>\n    <tr>\n      <th>54624</th>\n      <td>9</td>\n      <td>24</td>\n      <td>Finale</td>\n      <td>Meredith</td>\n    </tr>\n    <tr>\n      <th>54625</th>\n      <td>9</td>\n      <td>24</td>\n      <td>Finale</td>\n      <td>Phyllis</td>\n    </tr>\n    <tr>\n      <th>54626</th>\n      <td>9</td>\n      <td>24</td>\n      <td>Finale</td>\n      <td>Jim</td>\n    </tr>\n    <tr>\n      <th>54627</th>\n      <td>9</td>\n      <td>24</td>\n      <td>Finale</td>\n      <td>Pam</td>\n    </tr>\n  </tbody>\n</table>\n<p>54627 rows × 4 columns</p>\n</div>"
     },
     "metadata": {},
     "execution_count": 4
    }
   ],
   "source": [
    "# Create a list of columns we want to use, create a copy of the original dataframe with the chosen columns\n",
    "speaker_columns = [\"Season\", \"episode\", \"Title\", \"speaker\"]\n",
    "speaker_transformed = speaker_df[speaker_columns].copy()\n",
    "\n",
    "# Rename the column headers\n",
    "speaker_transformed = speaker_transformed.rename(columns={\"Season\": \"season\",\n",
    "                                                          \"Title\": \"title\"})\n",
    "\n",
    "# Create a row of ID's because we have no unique values\n",
    "speaker_transformed[\"id\"] = speaker_transformed.index+1\n",
    "\n",
    "# Set ID as index\n",
    "speaker_transformed.set_index(\"id\", inplace=True)\n",
    "\n",
    "# Display the transformed dataframe\n",
    "speaker_transformed"
   ]
  },
  {
   "cell_type": "code",
   "execution_count": 5,
   "metadata": {},
   "outputs": [
    {
     "output_type": "execute_result",
     "data": {
      "text/plain": "     season             title  rating  num_votes\nid                                              \n1         1             Pilot     7.5       4349\n2         1     Diversity Day     8.3       4213\n3         1       Health Care     7.8       3536\n4         1      The Alliance     8.1       3428\n5         1        Basketball     8.4       3745\n..      ...               ...     ...        ...\n184       9     Stairmageddon     8.0       1743\n185       9    Paper Airplane     8.0       1748\n186       9  Livin' the Dream     9.0       2439\n187       9          A.A.R.M.     9.5       3401\n188       9            Finale     9.8       9269\n\n[188 rows x 4 columns]",
      "text/html": "<div>\n<style scoped>\n    .dataframe tbody tr th:only-of-type {\n        vertical-align: middle;\n    }\n\n    .dataframe tbody tr th {\n        vertical-align: top;\n    }\n\n    .dataframe thead th {\n        text-align: right;\n    }\n</style>\n<table border=\"1\" class=\"dataframe\">\n  <thead>\n    <tr style=\"text-align: right;\">\n      <th></th>\n      <th>season</th>\n      <th>title</th>\n      <th>rating</th>\n      <th>num_votes</th>\n    </tr>\n    <tr>\n      <th>id</th>\n      <th></th>\n      <th></th>\n      <th></th>\n      <th></th>\n    </tr>\n  </thead>\n  <tbody>\n    <tr>\n      <th>1</th>\n      <td>1</td>\n      <td>Pilot</td>\n      <td>7.5</td>\n      <td>4349</td>\n    </tr>\n    <tr>\n      <th>2</th>\n      <td>1</td>\n      <td>Diversity Day</td>\n      <td>8.3</td>\n      <td>4213</td>\n    </tr>\n    <tr>\n      <th>3</th>\n      <td>1</td>\n      <td>Health Care</td>\n      <td>7.8</td>\n      <td>3536</td>\n    </tr>\n    <tr>\n      <th>4</th>\n      <td>1</td>\n      <td>The Alliance</td>\n      <td>8.1</td>\n      <td>3428</td>\n    </tr>\n    <tr>\n      <th>5</th>\n      <td>1</td>\n      <td>Basketball</td>\n      <td>8.4</td>\n      <td>3745</td>\n    </tr>\n    <tr>\n      <th>...</th>\n      <td>...</td>\n      <td>...</td>\n      <td>...</td>\n      <td>...</td>\n    </tr>\n    <tr>\n      <th>184</th>\n      <td>9</td>\n      <td>Stairmageddon</td>\n      <td>8.0</td>\n      <td>1743</td>\n    </tr>\n    <tr>\n      <th>185</th>\n      <td>9</td>\n      <td>Paper Airplane</td>\n      <td>8.0</td>\n      <td>1748</td>\n    </tr>\n    <tr>\n      <th>186</th>\n      <td>9</td>\n      <td>Livin' the Dream</td>\n      <td>9.0</td>\n      <td>2439</td>\n    </tr>\n    <tr>\n      <th>187</th>\n      <td>9</td>\n      <td>A.A.R.M.</td>\n      <td>9.5</td>\n      <td>3401</td>\n    </tr>\n    <tr>\n      <th>188</th>\n      <td>9</td>\n      <td>Finale</td>\n      <td>9.8</td>\n      <td>9269</td>\n    </tr>\n  </tbody>\n</table>\n<p>188 rows × 4 columns</p>\n</div>"
     },
     "metadata": {},
     "execution_count": 5
    }
   ],
   "source": [
    "# Create a list of columns we want to use, create a copy of the original dataframe with the chosen columns\n",
    "imdb_columns = [\"Season\", \"Title\", \"Rating\", \"Num_Votes\"]\n",
    "imdb_transformed = imdb_df[imdb_columns].copy()\n",
    "\n",
    "# Rename the column headers\n",
    "imdb_transformed = imdb_transformed.rename(columns={\"Season\": \"season\",\n",
    "                                                          \"Title\": \"title\",\n",
    "                                                          \"Rating\": \"rating\",\n",
    "                                                          \"Num_Votes\": \"num_votes\"})\n",
    "\n",
    "# Create a row of ID's because we have no unique values\n",
    "imdb_transformed[\"id\"] = imdb_transformed.index+1\n",
    "\n",
    "# Set ID as index\n",
    "imdb_transformed.set_index(\"id\", inplace=True)\n",
    "\n",
    "# Display the transformed dataframe\n",
    "imdb_transformed"
   ]
  },
  {
   "cell_type": "markdown",
   "metadata": {},
   "source": [
    "## Create database connection"
   ]
  },
  {
   "cell_type": "code",
   "execution_count": 6,
   "metadata": {},
   "outputs": [],
   "source": [
    "connection_string = \"postgres:<YOURPASS>@localhost:5432/office_db\"\n",
    "engine = create_engine(f'postgresql://{connection_string}')"
   ]
  },
  {
   "cell_type": "code",
   "execution_count": 7,
   "metadata": {},
   "outputs": [
    {
     "output_type": "execute_result",
     "data": {
      "text/plain": "['speaker', 'imdb']"
     },
     "metadata": {},
     "execution_count": 7
    }
   ],
   "source": [
    "# Make sure the tables exist\n",
    "engine.table_names()"
   ]
  },
  {
   "cell_type": "markdown",
   "metadata": {},
   "source": [
    "## Load DataFrames into the Database"
   ]
  },
  {
   "cell_type": "code",
   "execution_count": 8,
   "metadata": {},
   "outputs": [],
   "source": [
    "# Speaker table\n",
    "speaker_transformed.to_sql(name='speaker', con=engine, if_exists='append', index=True)"
   ]
  },
  {
   "cell_type": "code",
   "execution_count": 9,
   "metadata": {},
   "outputs": [],
   "source": [
    "# IMDB table\n",
    "imdb_transformed.to_sql(name='imdb', con=engine, if_exists='append', index=True)"
   ]
  },
  {
   "cell_type": "code",
   "execution_count": null,
   "metadata": {},
   "outputs": [],
   "source": []
  }
 ]
}